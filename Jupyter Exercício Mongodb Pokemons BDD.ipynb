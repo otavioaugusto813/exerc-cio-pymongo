{
 "cells": [
  {
   "cell_type": "code",
   "execution_count": 2,
   "metadata": {},
   "outputs": [
    {
     "name": "stdout",
     "output_type": "stream",
     "text": [
      "Requirement already satisfied: pymongo in c:\\users\\andreaefigenia\\anaconda3.1\\lib\\site-packages (3.8.0)\n"
     ]
    }
   ],
   "source": [
    "!pip install pymongo"
   ]
  },
  {
   "cell_type": "code",
   "execution_count": 5,
   "metadata": {},
   "outputs": [],
   "source": [
    "from pymongo import MongoClient\n",
    "\n",
    "client = MongoClient('mongodb://localhost:27017/')\n",
    "db = client['pokemondb']\n",
    "collection = db['pokemons']"
   ]
  },
  {
   "cell_type": "code",
   "execution_count": 16,
   "metadata": {},
   "outputs": [
    {
     "data": {
      "text/plain": [
       "{'_id': ObjectId('58f56171ee9d4bd5e610d6d9'),\n",
       " 'id': 150.0,\n",
       " 'num': '150',\n",
       " 'name': 'Mewtwo',\n",
       " 'img': 'http://www.serebii.net/pokemongo/pokemon/150.png',\n",
       " 'type': ['Psychic'],\n",
       " 'height': '2.01 m',\n",
       " 'weight': '122.0 kg',\n",
       " 'candy': 'None',\n",
       " 'egg': 'Not in Eggs',\n",
       " 'spawn_chance': 0.0,\n",
       " 'avg_spawns': 0.0,\n",
       " 'spawn_time': 'N/A',\n",
       " 'multipliers': None,\n",
       " 'weaknesses': ['Bug', 'Ghost', 'Dark']}"
      ]
     },
     "execution_count": 16,
     "metadata": {},
     "output_type": "execute_result"
    }
   ],
   "source": [
    "collection.find_one({\"name\": \"Mewtwo\"})"
   ]
  },
  {
   "cell_type": "code",
   "execution_count": 31,
   "metadata": {},
   "outputs": [
    {
     "name": "stdout",
     "output_type": "stream",
     "text": [
      "{'_id': ObjectId('58f56171ee9d4bd5e610d647'), 'id': 4.0, 'num': '004', 'name': 'Charmander', 'img': 'http://www.serebii.net/pokemongo/pokemon/004.png', 'type': ['Fire'], 'height': '0.61 m', 'weight': '8.5 kg', 'candy': 'Charmander Candy', 'candy_count': 25.0, 'egg': '2 km', 'spawn_chance': 0.253, 'avg_spawns': 25.3, 'spawn_time': '08:45', 'multipliers': [1.65], 'weaknesses': ['Water', 'Ground', 'Rock'], 'next_evolution': [{'num': '005', 'name': 'Charmeleon'}, {'num': '006', 'name': 'Charizard'}]}\n",
      "{'_id': ObjectId('58f56171ee9d4bd5e610d648'), 'id': 5.0, 'num': '005', 'name': 'Charmeleon', 'img': 'http://www.serebii.net/pokemongo/pokemon/005.png', 'type': ['Fire'], 'height': '1.09 m', 'weight': '19.0 kg', 'candy': 'Charmander Candy', 'candy_count': 100.0, 'egg': 'Not in Eggs', 'spawn_chance': 0.012, 'avg_spawns': 1.2, 'spawn_time': '19:00', 'multipliers': [1.79], 'weaknesses': ['Water', 'Ground', 'Rock'], 'prev_evolution': [{'num': '004', 'name': 'Charmander'}], 'next_evolution': [{'num': '006', 'name': 'Charizard'}]}\n",
      "{'_id': ObjectId('58f56171ee9d4bd5e610d649'), 'id': 6.0, 'num': '006', 'name': 'Charizard', 'img': 'http://www.serebii.net/pokemongo/pokemon/006.png', 'type': ['Fire', 'Flying'], 'height': '1.70 m', 'weight': '90.5 kg', 'candy': 'Charmander Candy', 'egg': 'Not in Eggs', 'spawn_chance': 0.0031, 'avg_spawns': 0.31, 'spawn_time': '13:34', 'multipliers': None, 'weaknesses': ['Water', 'Electric', 'Rock'], 'prev_evolution': [{'num': '004', 'name': 'Charmander'}, {'num': '005', 'name': 'Charmeleon'}]}\n",
      "{'_id': ObjectId('58f56171ee9d4bd5e610d668'), 'id': 37.0, 'num': '037', 'name': 'Vulpix', 'img': 'http://www.serebii.net/pokemongo/pokemon/037.png', 'type': ['Fire'], 'height': '0.61 m', 'weight': '9.9 kg', 'candy': 'Vulpix Candy', 'candy_count': 50.0, 'egg': '5 km', 'spawn_chance': 0.22, 'avg_spawns': 22.0, 'spawn_time': '13:43', 'multipliers': [2.74, 2.81], 'weaknesses': ['Water', 'Ground', 'Rock'], 'next_evolution': [{'num': '038', 'name': 'Ninetales'}]}\n",
      "{'_id': ObjectId('58f56171ee9d4bd5e610d690'), 'id': 77.0, 'num': '077', 'name': 'Ponyta', 'img': 'http://www.serebii.net/pokemongo/pokemon/077.png', 'type': ['Fire'], 'height': '0.99 m', 'weight': '30.0 kg', 'candy': 'Ponyta Candy', 'candy_count': 50.0, 'egg': '5 km', 'spawn_chance': 0.51, 'avg_spawns': 51.0, 'spawn_time': '02:50', 'multipliers': [1.48, 1.5], 'weaknesses': ['Water', 'Ground', 'Rock'], 'next_evolution': [{'num': '078', 'name': 'Rapidash'}]}\n",
      "{'_id': ObjectId('58f56171ee9d4bd5e610d6cb'), 'id': 136.0, 'num': '136', 'name': 'Flareon', 'img': 'http://www.serebii.net/pokemongo/pokemon/136.png', 'type': ['Fire'], 'height': '0.89 m', 'weight': '25.0 kg', 'candy': 'Eevee Candy', 'egg': 'Not in Eggs', 'spawn_chance': 0.017, 'avg_spawns': 1.7, 'spawn_time': '07:02', 'multipliers': None, 'weaknesses': ['Water', 'Ground', 'Rock'], 'prev_evolution': [{'num': '133', 'name': 'Eevee'}]}\n",
      "{'_id': ObjectId('58f56171ee9d4bd5e610d669'), 'id': 38.0, 'num': '038', 'name': 'Ninetales', 'img': 'http://www.serebii.net/pokemongo/pokemon/038.png', 'type': ['Fire'], 'height': '1.09 m', 'weight': '19.9 kg', 'candy': 'Vulpix Candy', 'egg': 'Not in Eggs', 'spawn_chance': 0.0077, 'avg_spawns': 0.77, 'spawn_time': '01:32', 'multipliers': None, 'weaknesses': ['Water', 'Ground', 'Rock'], 'prev_evolution': [{'num': '037', 'name': 'Vulpix'}]}\n",
      "{'_id': ObjectId('58f56171ee9d4bd5e610d67d'), 'id': 58.0, 'num': '058', 'name': 'Growlithe', 'img': 'http://www.serebii.net/pokemongo/pokemon/058.png', 'type': ['Fire'], 'height': '0.71 m', 'weight': '19.0 kg', 'candy': 'Growlithe Candy', 'candy_count': 50.0, 'egg': '5 km', 'spawn_chance': 0.92, 'avg_spawns': 92.0, 'spawn_time': '03:57', 'multipliers': [2.31, 2.36], 'weaknesses': ['Water', 'Ground', 'Rock'], 'next_evolution': [{'num': '059', 'name': 'Arcanine'}]}\n",
      "{'_id': ObjectId('58f56171ee9d4bd5e610d691'), 'id': 78.0, 'num': '078', 'name': 'Rapidash', 'img': 'http://www.serebii.net/pokemongo/pokemon/078.png', 'type': ['Fire'], 'height': '1.70 m', 'weight': '95.0 kg', 'candy': 'Ponyta Candy', 'egg': 'Not in Eggs', 'spawn_chance': 0.011, 'avg_spawns': 1.1, 'spawn_time': '04:00', 'multipliers': None, 'weaknesses': ['Water', 'Ground', 'Rock'], 'prev_evolution': [{'num': '077', 'name': 'Ponyta'}]}\n",
      "{'_id': ObjectId('58f56171ee9d4bd5e610d67e'), 'id': 59.0, 'num': '059', 'name': 'Arcanine', 'img': 'http://www.serebii.net/pokemongo/pokemon/059.png', 'type': ['Fire'], 'height': '1.91 m', 'weight': '155.0 kg', 'candy': 'Growlithe Candy', 'egg': 'Not in Eggs', 'spawn_chance': 0.017, 'avg_spawns': 1.7, 'spawn_time': '03:11', 'multipliers': None, 'weaknesses': ['Water', 'Ground', 'Rock'], 'prev_evolution': [{'num': '058', 'name': 'Growlithe'}]}\n",
      "{'_id': ObjectId('58f56171ee9d4bd5e610d6c1'), 'id': 126.0, 'num': '126', 'name': 'Magmar', 'img': 'http://www.serebii.net/pokemongo/pokemon/126.png', 'type': ['Fire'], 'height': '1.30 m', 'weight': '44.5 kg', 'candy': 'None', 'egg': '10 km', 'spawn_chance': 0.1, 'avg_spawns': 10.0, 'spawn_time': '20:36', 'multipliers': None, 'weaknesses': ['Water', 'Ground', 'Rock']}\n",
      "{'_id': ObjectId('58f56171ee9d4bd5e610d6d5'), 'id': 146.0, 'num': '146', 'name': 'Moltres', 'img': 'http://www.serebii.net/pokemongo/pokemon/146.png', 'type': ['Fire', 'Flying'], 'height': '2.01 m', 'weight': '60.0 kg', 'candy': 'None', 'egg': 'Not in Eggs', 'spawn_chance': 0.0, 'avg_spawns': 0.0, 'spawn_time': 'N/A', 'multipliers': None, 'weaknesses': ['Water', 'Electric', 'Rock']}\n"
     ]
    }
   ],
   "source": [
    "# buscando os pokemons do tipo fogo\n",
    "\n",
    "x = {\"type\": \"Fire\"}\n",
    "mydoc = collection.find(x)\n",
    "for x in mydoc:\n",
    "    print(x)"
   ]
  },
  {
   "cell_type": "code",
   "execution_count": 36,
   "metadata": {},
   "outputs": [
    {
     "name": "stdout",
     "output_type": "stream",
     "text": [
      "{'_id': ObjectId('58f56171ee9d4bd5e610d646'), 'id': 3.0, 'num': '003', 'name': 'Venusaur', 'img': 'http://www.serebii.net/pokemongo/pokemon/003.png', 'type': ['Grass', 'Poison'], 'height': '2.01 m', 'weight': '100.0 kg', 'candy': 'Bulbasaur Candy', 'egg': 'Not in Eggs', 'spawn_chance': 0.017, 'avg_spawns': 1.7, 'spawn_time': '11:30', 'multipliers': None, 'weaknesses': ['Fire', 'Ice', 'Flying', 'Psychic'], 'prev_evolution': [{'num': '001', 'name': 'Bulbasaur'}, {'num': '002', 'name': 'Ivysaur'}]}\n",
      "{'_id': ObjectId('58f56171ee9d4bd5e610d649'), 'id': 6.0, 'num': '006', 'name': 'Charizard', 'img': 'http://www.serebii.net/pokemongo/pokemon/006.png', 'type': ['Fire', 'Flying'], 'height': '1.70 m', 'weight': '90.5 kg', 'candy': 'Charmander Candy', 'egg': 'Not in Eggs', 'spawn_chance': 0.0031, 'avg_spawns': 0.31, 'spawn_time': '13:34', 'multipliers': None, 'weaknesses': ['Water', 'Electric', 'Rock'], 'prev_evolution': [{'num': '004', 'name': 'Charmander'}, {'num': '005', 'name': 'Charmeleon'}]}\n",
      "{'_id': ObjectId('58f56171ee9d4bd5e610d64c'), 'id': 9.0, 'num': '009', 'name': 'Blastoise', 'img': 'http://www.serebii.net/pokemongo/pokemon/009.png', 'type': ['Water'], 'height': '1.60 m', 'weight': '85.5 kg', 'candy': 'Squirtle Candy', 'egg': 'Not in Eggs', 'spawn_chance': 0.0067, 'avg_spawns': 0.67, 'spawn_time': '00:06', 'multipliers': None, 'weaknesses': ['Electric', 'Grass'], 'prev_evolution': [{'num': '007', 'name': 'Squirtle'}, {'num': '008', 'name': 'Wartortle'}]}\n",
      "{'_id': ObjectId('58f56171ee9d4bd5e610d655'), 'id': 18.0, 'num': '018', 'name': 'Pidgeot', 'img': 'http://www.serebii.net/pokemongo/pokemon/018.png', 'type': ['Normal', 'Flying'], 'height': '1.50 m', 'weight': '39.5 kg', 'candy': 'Pidgey Candy', 'egg': 'Not in Eggs', 'spawn_chance': 0.13, 'avg_spawns': 13.0, 'spawn_time': '01:50', 'multipliers': None, 'weaknesses': ['Electric', 'Rock'], 'prev_evolution': [{'num': '016', 'name': 'Pidgey'}, {'num': '017', 'name': 'Pidgeotto'}]}\n",
      "{'_id': ObjectId('58f56171ee9d4bd5e610d674'), 'id': 49.0, 'num': '049', 'name': 'Venomoth', 'img': 'http://www.serebii.net/pokemongo/pokemon/049.png', 'type': ['Bug', 'Poison'], 'height': '1.50 m', 'weight': '12.5 kg', 'candy': 'Venonat Candy', 'egg': 'Not in Eggs', 'spawn_chance': 0.072, 'avg_spawns': 7.2, 'spawn_time': '23:40', 'multipliers': None, 'weaknesses': ['Fire', 'Flying', 'Psychic', 'Rock'], 'prev_evolution': [{'num': '048', 'name': 'Venonat'}]}\n",
      "{'_id': ObjectId('58f56171ee9d4bd5e610d684'), 'id': 65.0, 'num': '065', 'name': 'Alakazam', 'img': 'http://www.serebii.net/pokemongo/pokemon/065.png', 'type': ['Psychic'], 'height': '1.50 m', 'weight': '48.0 kg', 'candy': 'Abra Candy', 'egg': 'Not in Eggs', 'spawn_chance': 0.0073, 'avg_spawns': 0.73, 'spawn_time': '12:33', 'multipliers': None, 'weaknesses': ['Bug', 'Ghost', 'Dark'], 'prev_evolution': [{'num': '063', 'name': 'Abra'}, {'num': '064', 'name': 'Kadabra'}]}\n",
      "{'_id': ObjectId('58f56171ee9d4bd5e610d68c'), 'id': 73.0, 'num': '073', 'name': 'Tentacruel', 'img': 'http://www.serebii.net/pokemongo/pokemon/073.png', 'type': ['Water', 'Poison'], 'height': '1.60 m', 'weight': '55.0 kg', 'candy': 'Tentacool Candy', 'egg': 'Not in Eggs', 'spawn_chance': 0.082, 'avg_spawns': 8.2, 'spawn_time': '23:36', 'multipliers': None, 'weaknesses': ['Electric', 'Ground', 'Psychic'], 'prev_evolution': [{'num': '072', 'name': 'Tentacool'}]}\n",
      "{'_id': ObjectId('58f56171ee9d4bd5e610d698'), 'id': 85.0, 'num': '085', 'name': 'Dodrio', 'img': 'http://www.serebii.net/pokemongo/pokemon/085.png', 'type': ['Normal', 'Flying'], 'height': '1.80 m', 'weight': '85.2 kg', 'candy': 'Doduo Candy', 'egg': 'Not in Eggs', 'spawn_chance': 0.22, 'avg_spawns': 22.0, 'spawn_time': '02:12', 'multipliers': None, 'weaknesses': ['Electric', 'Rock'], 'prev_evolution': [{'num': '084', 'name': 'Doduo'}]}\n",
      "{'_id': ObjectId('58f56171ee9d4bd5e610d6a0'), 'id': 93.0, 'num': '093', 'name': 'Haunter', 'img': 'http://www.serebii.net/pokemongo/pokemon/093.png', 'type': ['Ghost', 'Poison'], 'height': '1.60 m', 'weight': '0.1 kg', 'candy': 'Gastly Candy', 'candy_count': 100.0, 'egg': 'Not in Eggs', 'spawn_chance': 0.052, 'avg_spawns': 5.2, 'spawn_time': '00:10', 'multipliers': [1.56, 1.8], 'weaknesses': ['Ground', 'Psychic', 'Ghost', 'Dark'], 'prev_evolution': [{'num': '092', 'name': 'Gastly'}], 'next_evolution': [{'num': '094', 'name': 'Gengar'}]}\n",
      "{'_id': ObjectId('58f56171ee9d4bd5e610d6a4'), 'id': 97.0, 'num': '097', 'name': 'Hypno', 'img': 'http://www.serebii.net/pokemongo/pokemon/097.png', 'type': ['Psychic'], 'height': '1.60 m', 'weight': '75.6 kg', 'candy': 'Drowzee Candy', 'egg': 'Not in Eggs', 'spawn_chance': 0.1, 'avg_spawns': 10.0, 'spawn_time': '02:17', 'multipliers': None, 'weaknesses': ['Bug', 'Ghost', 'Dark'], 'prev_evolution': [{'num': '096', 'name': 'Drowzee'}]}\n",
      "{'_id': ObjectId('58f56171ee9d4bd5e610d6b3'), 'id': 112.0, 'num': '112', 'name': 'Rhydon', 'img': 'http://www.serebii.net/pokemongo/pokemon/112.png', 'type': ['Ground', 'Rock'], 'height': '1.91 m', 'weight': '120.0 kg', 'candy': 'Rhyhorn Candy', 'egg': 'Not in Eggs', 'spawn_chance': 0.022, 'avg_spawns': 2.2, 'spawn_time': '05:50', 'multipliers': None, 'weaknesses': ['Water', 'Grass', 'Ice', 'Fighting', 'Ground', 'Steel'], 'prev_evolution': [{'num': '111', 'name': 'Rhyhorn'}]}\n",
      "{'_id': ObjectId('58f56171ee9d4bd5e610d6d3'), 'id': 144.0, 'num': '144', 'name': 'Articuno', 'img': 'http://www.serebii.net/pokemongo/pokemon/144.png', 'type': ['Ice', 'Flying'], 'height': '1.70 m', 'weight': '55.4 kg', 'candy': 'None', 'egg': 'Not in Eggs', 'spawn_chance': 0.0, 'avg_spawns': 0.0, 'spawn_time': 'N/A', 'multipliers': None, 'weaknesses': ['Fire', 'Electric', 'Rock', 'Steel']}\n",
      "{'_id': ObjectId('58f56171ee9d4bd5e610d6d7'), 'id': 148.0, 'num': '148', 'name': 'Dragonair', 'img': 'http://www.serebii.net/pokemongo/pokemon/148.png', 'type': ['Dragon'], 'height': '3.99 m', 'weight': '16.5 kg', 'candy': 'Dratini Candy', 'candy_count': 100.0, 'egg': 'Not in Eggs', 'spawn_chance': 0.02, 'avg_spawns': 2.0, 'spawn_time': '11:57', 'multipliers': [2.05], 'weaknesses': ['Ice', 'Dragon', 'Fairy'], 'prev_evolution': [{'num': '147', 'name': 'Dratini'}], 'next_evolution': [{'num': '149', 'name': 'Dragonite'}]}\n",
      "{'_id': ObjectId('58f56171ee9d4bd5e610d66d'), 'id': 42.0, 'num': '042', 'name': 'Golbat', 'img': 'http://www.serebii.net/pokemongo/pokemon/042.png', 'type': ['Poison', 'Flying'], 'height': '1.60 m', 'weight': '55.0 kg', 'candy': 'Zubat Candy', 'egg': 'Not in Eggs', 'spawn_chance': 0.42, 'avg_spawns': 42.0, 'spawn_time': '02:15', 'multipliers': None, 'weaknesses': ['Electric', 'Ice', 'Psychic', 'Rock'], 'prev_evolution': [{'num': '041', 'name': 'Zubat'}]}\n",
      "{'_id': ObjectId('58f56171ee9d4bd5e610d691'), 'id': 78.0, 'num': '078', 'name': 'Rapidash', 'img': 'http://www.serebii.net/pokemongo/pokemon/078.png', 'type': ['Fire'], 'height': '1.70 m', 'weight': '95.0 kg', 'candy': 'Ponyta Candy', 'egg': 'Not in Eggs', 'spawn_chance': 0.011, 'avg_spawns': 1.1, 'spawn_time': '04:00', 'multipliers': None, 'weaknesses': ['Water', 'Ground', 'Rock'], 'prev_evolution': [{'num': '077', 'name': 'Ponyta'}]}\n",
      "{'_id': ObjectId('58f56171ee9d4bd5e610d6a1'), 'id': 94.0, 'num': '094', 'name': 'Gengar', 'img': 'http://www.serebii.net/pokemongo/pokemon/094.png', 'type': ['Ghost', 'Poison'], 'height': '1.50 m', 'weight': '40.5 kg', 'candy': 'Gastly Candy', 'egg': 'Not in Eggs', 'spawn_chance': 0.0067, 'avg_spawns': 0.67, 'spawn_time': '03:55', 'multipliers': None, 'weaknesses': ['Ground', 'Psychic', 'Ghost', 'Dark'], 'prev_evolution': [{'num': '092', 'name': 'Gastly'}, {'num': '093', 'name': 'Haunter'}]}\n",
      "{'_id': ObjectId('58f56171ee9d4bd5e610d6ad'), 'id': 106.0, 'num': '106', 'name': 'Hitmonlee', 'img': 'http://www.serebii.net/pokemongo/pokemon/106.png', 'type': ['Fighting'], 'height': '1.50 m', 'weight': '49.8 kg', 'candy': 'None', 'egg': '10 km', 'spawn_chance': 0.02, 'avg_spawns': 2.0, 'spawn_time': '03:59', 'multipliers': None, 'weaknesses': ['Flying', 'Psychic', 'Fairy']}\n",
      "{'_id': ObjectId('58f56171ee9d4bd5e610d6b6'), 'id': 115.0, 'num': '115', 'name': 'Kangaskhan', 'img': 'http://www.serebii.net/pokemongo/pokemon/115.png', 'type': ['Normal'], 'height': '2.21 m', 'weight': '80.0 kg', 'candy': 'None', 'egg': '5 km', 'spawn_chance': 0.0086, 'avg_spawns': 0.86, 'spawn_time': '02:40', 'multipliers': None, 'weaknesses': ['Fighting']}\n",
      "{'_id': ObjectId('58f56171ee9d4bd5e610d6be'), 'id': 123.0, 'num': '123', 'name': 'Scyther', 'img': 'http://www.serebii.net/pokemongo/pokemon/123.png', 'type': ['Bug', 'Flying'], 'height': '1.50 m', 'weight': '56.0 kg', 'candy': 'None', 'egg': '10 km', 'spawn_chance': 0.14, 'avg_spawns': 14.0, 'spawn_time': '05:43', 'multipliers': None, 'weaknesses': ['Fire', 'Electric', 'Ice', 'Flying', 'Rock']}\n",
      "{'_id': ObjectId('58f56171ee9d4bd5e610d6c2'), 'id': 127.0, 'num': '127', 'name': 'Pinsir', 'img': 'http://www.serebii.net/pokemongo/pokemon/127.png', 'type': ['Bug'], 'height': '1.50 m', 'weight': '55.0 kg', 'candy': 'None', 'egg': '10 km', 'spawn_chance': 0.99, 'avg_spawns': 99.0, 'spawn_time': '03:25', 'multipliers': None, 'weaknesses': ['Fire', 'Flying', 'Rock']}\n",
      "{'_id': ObjectId('58f56171ee9d4bd5e610d6c6'), 'id': 131.0, 'num': '131', 'name': 'Lapras', 'img': 'http://www.serebii.net/pokemongo/pokemon/131.png', 'type': ['Water', 'Ice'], 'height': '2.49 m', 'weight': '220.0 kg', 'candy': 'None', 'egg': '10 km', 'spawn_chance': 0.006, 'avg_spawns': 0.6, 'spawn_time': '08:59', 'multipliers': None, 'weaknesses': ['Electric', 'Grass', 'Fighting', 'Rock']}\n",
      "{'_id': ObjectId('58f56171ee9d4bd5e610d6d2'), 'id': 143.0, 'num': '143', 'name': 'Snorlax', 'img': 'http://www.serebii.net/pokemongo/pokemon/143.png', 'type': ['Normal'], 'height': '2.11 m', 'weight': '460.0 kg', 'candy': 'None', 'egg': '10 km', 'spawn_chance': 0.016, 'avg_spawns': 1.6, 'spawn_time': '23:40', 'multipliers': None, 'weaknesses': ['Fighting']}\n",
      "{'_id': ObjectId('58f56171ee9d4bd5e610d6d6'), 'id': 147.0, 'num': '147', 'name': 'Dratini', 'img': 'http://www.serebii.net/pokemongo/pokemon/147.png', 'type': ['Dragon'], 'height': '1.80 m', 'weight': '3.3 kg', 'candy': 'Dratini Candy', 'candy_count': 25.0, 'egg': '10 km', 'spawn_chance': 0.3, 'avg_spawns': 30.0, 'spawn_time': '06:41', 'multipliers': [1.83, 1.84], 'weaknesses': ['Ice', 'Dragon', 'Fairy'], 'next_evolution': [{'num': '148', 'name': 'Dragonair'}, {'num': '149', 'name': 'Dragonite'}]}\n",
      "{'_id': ObjectId('58f56171ee9d4bd5e610d65b'), 'id': 24.0, 'num': '024', 'name': 'Arbok', 'img': 'http://www.serebii.net/pokemongo/pokemon/024.png', 'type': ['Poison'], 'height': '3.51 m', 'weight': '65.0 kg', 'candy': 'Ekans Candy', 'egg': 'Not in Eggs', 'spawn_chance': 0.072, 'avg_spawns': 7.2, 'spawn_time': '01:50', 'multipliers': None, 'weaknesses': ['Ground', 'Psychic'], 'prev_evolution': [{'num': '023', 'name': 'Ekans'}]}\n",
      "{'_id': ObjectId('58f56171ee9d4bd5e610d687'), 'id': 68.0, 'num': '068', 'name': 'Machamp', 'img': 'http://www.serebii.net/pokemongo/pokemon/068.png', 'type': ['Fighting'], 'height': '1.60 m', 'weight': '130.0 kg', 'candy': 'Machop Candy', 'egg': 'Not in Eggs', 'spawn_chance': 0.0068, 'avg_spawns': 0.68, 'spawn_time': '02:55', 'multipliers': None, 'weaknesses': ['Flying', 'Psychic', 'Fairy'], 'prev_evolution': [{'num': '066', 'name': 'Machop'}, {'num': '067', 'name': 'Machoke'}]}\n",
      "{'_id': ObjectId('58f56171ee9d4bd5e610d693'), 'id': 80.0, 'num': '080', 'name': 'Slowbro', 'img': 'http://www.serebii.net/pokemongo/pokemon/080.png', 'type': ['Water', 'Psychic'], 'height': '1.60 m', 'weight': '78.5 kg', 'candy': 'Slowpoke Candy', 'egg': 'Not in Eggs', 'spawn_chance': 0.036, 'avg_spawns': 3.6, 'spawn_time': '02:56', 'multipliers': None, 'weaknesses': ['Electric', 'Grass', 'Bug', 'Ghost', 'Dark'], 'prev_evolution': [{'num': '079', 'name': 'Slowpoke'}]}\n",
      "{'_id': ObjectId('58f56171ee9d4bd5e610d6d4'), 'id': 145.0, 'num': '145', 'name': 'Zapdos', 'img': 'http://www.serebii.net/pokemongo/pokemon/145.png', 'type': ['Electric', 'Flying'], 'height': '1.60 m', 'weight': '52.6 kg', 'candy': 'None', 'egg': 'Not in Eggs', 'spawn_chance': 0.0, 'avg_spawns': 0.0, 'spawn_time': 'N/A', 'multipliers': None, 'weaknesses': ['Ice', 'Rock']}\n",
      "{'_id': ObjectId('58f56171ee9d4bd5e610d6d8'), 'id': 149.0, 'num': '149', 'name': 'Dragonite', 'img': 'http://www.serebii.net/pokemongo/pokemon/149.png', 'type': ['Dragon', 'Flying'], 'height': '2.21 m', 'weight': '210.0 kg', 'candy': 'Dratini Candy', 'egg': 'Not in Eggs', 'spawn_chance': 0.0011, 'avg_spawns': 0.11, 'spawn_time': '23:38', 'multipliers': None, 'weaknesses': ['Ice', 'Rock', 'Dragon', 'Fairy'], 'prev_evolution': [{'num': '147', 'name': 'Dratini'}, {'num': '148', 'name': 'Dragonair'}]}\n",
      "{'_id': ObjectId('58f56171ee9d4bd5e610d65a'), 'id': 23.0, 'num': '023', 'name': 'Ekans', 'img': 'http://www.serebii.net/pokemongo/pokemon/023.png', 'type': ['Poison'], 'height': '2.01 m', 'weight': '6.9 kg', 'candy': 'Ekans Candy', 'candy_count': 50.0, 'egg': '5 km', 'spawn_chance': 2.27, 'avg_spawns': 227.0, 'spawn_time': '12:20', 'multipliers': [2.21, 2.27], 'weaknesses': ['Ground', 'Psychic'], 'next_evolution': [{'num': '024', 'name': 'Arbok'}]}\n",
      "{'_id': ObjectId('58f56171ee9d4bd5e610d67a'), 'id': 55.0, 'num': '055', 'name': 'Golduck', 'img': 'http://www.serebii.net/pokemongo/pokemon/055.png', 'type': ['Water'], 'height': '1.70 m', 'weight': '76.6 kg', 'candy': 'Psyduck Candy', 'egg': 'Not in Eggs', 'spawn_chance': 0.087, 'avg_spawns': 8.7, 'spawn_time': '23:06', 'multipliers': None, 'weaknesses': ['Electric', 'Grass'], 'prev_evolution': [{'num': '054', 'name': 'Psyduck'}]}\n",
      "{'_id': ObjectId('58f56171ee9d4bd5e610d67e'), 'id': 59.0, 'num': '059', 'name': 'Arcanine', 'img': 'http://www.serebii.net/pokemongo/pokemon/059.png', 'type': ['Fire'], 'height': '1.91 m', 'weight': '155.0 kg', 'candy': 'Growlithe Candy', 'egg': 'Not in Eggs', 'spawn_chance': 0.017, 'avg_spawns': 1.7, 'spawn_time': '03:11', 'multipliers': None, 'weaknesses': ['Water', 'Ground', 'Rock'], 'prev_evolution': [{'num': '058', 'name': 'Growlithe'}]}\n",
      "{'_id': ObjectId('58f56171ee9d4bd5e610d686'), 'id': 67.0, 'num': '067', 'name': 'Machoke', 'img': 'http://www.serebii.net/pokemongo/pokemon/067.png', 'type': ['Fighting'], 'height': '1.50 m', 'weight': '70.5 kg', 'candy': 'Machop Candy', 'candy_count': 100.0, 'egg': 'Not in Eggs', 'spawn_chance': 0.034, 'avg_spawns': 3.4, 'spawn_time': '10:32', 'multipliers': [1.7], 'weaknesses': ['Flying', 'Psychic', 'Fairy'], 'prev_evolution': [{'num': '066', 'name': 'Machop'}], 'next_evolution': [{'num': '068', 'name': 'Machamp'}]}\n",
      "{'_id': ObjectId('58f56171ee9d4bd5e610d68a'), 'id': 71.0, 'num': '071', 'name': 'Victreebel', 'img': 'http://www.serebii.net/pokemongo/pokemon/071.png', 'type': ['Grass', 'Poison'], 'height': '1.70 m', 'weight': '15.5 kg', 'candy': 'Bellsprout Candy', 'egg': 'Not in Eggs', 'spawn_chance': 0.0059, 'avg_spawns': 0.59, 'spawn_time': '12:19', 'multipliers': None, 'weaknesses': ['Fire', 'Ice', 'Flying', 'Psychic'], 'prev_evolution': [{'num': '069', 'name': 'Bellsprout'}, {'num': '070', 'name': 'Weepinbell'}]}\n",
      "{'_id': ObjectId('58f56171ee9d4bd5e610d69a'), 'id': 87.0, 'num': '087', 'name': 'Dewgong', 'img': 'http://www.serebii.net/pokemongo/pokemon/087.png', 'type': ['Water', 'Ice'], 'height': '1.70 m', 'weight': '120.0 kg', 'candy': 'Seel Candy', 'egg': 'Not in Eggs', 'spawn_chance': 0.013, 'avg_spawns': 1.3, 'spawn_time': '06:04', 'multipliers': None, 'weaknesses': ['Electric', 'Grass', 'Fighting', 'Rock'], 'prev_evolution': [{'num': '086', 'name': 'Seel'}]}\n",
      "{'_id': ObjectId('58f56171ee9d4bd5e610d69e'), 'id': 91.0, 'num': '091', 'name': 'Cloyster', 'img': 'http://www.serebii.net/pokemongo/pokemon/091.png', 'type': ['Water', 'Ice'], 'height': '1.50 m', 'weight': '132.5 kg', 'candy': 'Shellder Candy', 'egg': 'Not in Eggs', 'spawn_chance': 0.015, 'avg_spawns': 1.5, 'spawn_time': '02:33', 'multipliers': None, 'weaknesses': ['Electric', 'Grass', 'Fighting', 'Rock'], 'prev_evolution': [{'num': '090', 'name': 'Shellder'}]}\n",
      "{'_id': ObjectId('58f56171ee9d4bd5e610d6a2'), 'id': 95.0, 'num': '095', 'name': 'Onix', 'img': 'http://www.serebii.net/pokemongo/pokemon/095.png', 'type': ['Rock', 'Ground'], 'height': '8.79 m', 'weight': '210.0 kg', 'candy': 'None', 'egg': '10 km', 'spawn_chance': 0.1, 'avg_spawns': 10.0, 'spawn_time': '01:18', 'multipliers': None, 'weaknesses': ['Water', 'Grass', 'Ice', 'Fighting', 'Ground', 'Steel']}\n",
      "{'_id': ObjectId('58f56171ee9d4bd5e610d6aa'), 'id': 103.0, 'num': '103', 'name': 'Exeggutor', 'img': 'http://www.serebii.net/pokemongo/pokemon/103.png', 'type': ['Grass', 'Psychic'], 'height': '2.01 m', 'weight': '120.0 kg', 'candy': 'Exeggcute Candy', 'egg': 'Not in Eggs', 'spawn_chance': 0.014, 'avg_spawns': 1.4, 'spawn_time': '12:34', 'multipliers': None, 'weaknesses': ['Fire', 'Ice', 'Poison', 'Flying', 'Bug', 'Ghost', 'Dark'], 'prev_evolution': [{'num': '102', 'name': 'Exeggcute'}]}\n",
      "{'_id': ObjectId('58f56171ee9d4bd5e610d6c5'), 'id': 130.0, 'num': '130', 'name': 'Gyarados', 'img': 'http://www.serebii.net/pokemongo/pokemon/130.png', 'type': ['Water', 'Flying'], 'height': '6.50 m', 'weight': '235.0 kg', 'candy': 'Magikarp Candy', 'egg': 'Not in Eggs', 'spawn_chance': 0.0032, 'avg_spawns': 0.32, 'spawn_time': '02:15', 'multipliers': None, 'weaknesses': ['Electric', 'Rock'], 'prev_evolution': [{'num': '129', 'name': 'Magikarp'}]}\n",
      "{'_id': ObjectId('58f56171ee9d4bd5e610d6d1'), 'id': 142.0, 'num': '142', 'name': 'Aerodactyl', 'img': 'http://www.serebii.net/pokemongo/pokemon/142.png', 'type': ['Rock', 'Flying'], 'height': '1.80 m', 'weight': '59.0 kg', 'candy': 'None', 'egg': '10 km', 'spawn_chance': 0.018, 'avg_spawns': 1.8, 'spawn_time': '23:40', 'multipliers': None, 'weaknesses': ['Water', 'Electric', 'Ice', 'Rock', 'Steel']}\n",
      "{'_id': ObjectId('58f56171ee9d4bd5e610d6d5'), 'id': 146.0, 'num': '146', 'name': 'Moltres', 'img': 'http://www.serebii.net/pokemongo/pokemon/146.png', 'type': ['Fire', 'Flying'], 'height': '2.01 m', 'weight': '60.0 kg', 'candy': 'None', 'egg': 'Not in Eggs', 'spawn_chance': 0.0, 'avg_spawns': 0.0, 'spawn_time': 'N/A', 'multipliers': None, 'weaknesses': ['Water', 'Electric', 'Rock']}\n",
      "{'_id': ObjectId('58f56171ee9d4bd5e610d6d9'), 'id': 150.0, 'num': '150', 'name': 'Mewtwo', 'img': 'http://www.serebii.net/pokemongo/pokemon/150.png', 'type': ['Psychic'], 'height': '2.01 m', 'weight': '122.0 kg', 'candy': 'None', 'egg': 'Not in Eggs', 'spawn_chance': 0.0, 'avg_spawns': 0.0, 'spawn_time': 'N/A', 'multipliers': None, 'weaknesses': ['Bug', 'Ghost', 'Dark']}\n"
     ]
    }
   ],
   "source": [
    "# pokemons com mais de 1.5m \n",
    "\n",
    "y = {\"height\":{\"$gt\":\"1.5\"}}\n",
    "a = collection.find(y)\n",
    "for x in a:\n",
    "    print(x)"
   ]
  },
  {
   "cell_type": "code",
   "execution_count": 37,
   "metadata": {},
   "outputs": [
    {
     "name": "stdout",
     "output_type": "stream",
     "text": [
      "{'_id': ObjectId('58f56171ee9d4bd5e610d647'), 'id': 4.0, 'num': '004', 'name': 'Charmander', 'img': 'http://www.serebii.net/pokemongo/pokemon/004.png', 'type': ['Fire'], 'height': '0.61 m', 'weight': '8.5 kg', 'candy': 'Charmander Candy', 'candy_count': 25.0, 'egg': '2 km', 'spawn_chance': 0.253, 'avg_spawns': 25.3, 'spawn_time': '08:45', 'multipliers': [1.65], 'weaknesses': ['Water', 'Ground', 'Rock'], 'next_evolution': [{'num': '005', 'name': 'Charmeleon'}, {'num': '006', 'name': 'Charizard'}]}\n",
      "{'_id': ObjectId('58f56171ee9d4bd5e610d648'), 'id': 5.0, 'num': '005', 'name': 'Charmeleon', 'img': 'http://www.serebii.net/pokemongo/pokemon/005.png', 'type': ['Fire'], 'height': '1.09 m', 'weight': '19.0 kg', 'candy': 'Charmander Candy', 'candy_count': 100.0, 'egg': 'Not in Eggs', 'spawn_chance': 0.012, 'avg_spawns': 1.2, 'spawn_time': '19:00', 'multipliers': [1.79], 'weaknesses': ['Water', 'Ground', 'Rock'], 'prev_evolution': [{'num': '004', 'name': 'Charmander'}], 'next_evolution': [{'num': '006', 'name': 'Charizard'}]}\n",
      "{'_id': ObjectId('58f56171ee9d4bd5e610d649'), 'id': 6.0, 'num': '006', 'name': 'Charizard', 'img': 'http://www.serebii.net/pokemongo/pokemon/006.png', 'type': ['Fire', 'Flying'], 'height': '1.70 m', 'weight': '90.5 kg', 'candy': 'Charmander Candy', 'egg': 'Not in Eggs', 'spawn_chance': 0.0031, 'avg_spawns': 0.31, 'spawn_time': '13:34', 'multipliers': None, 'weaknesses': ['Water', 'Electric', 'Rock'], 'prev_evolution': [{'num': '004', 'name': 'Charmander'}, {'num': '005', 'name': 'Charmeleon'}]}\n",
      "{'_id': ObjectId('58f56171ee9d4bd5e610d668'), 'id': 37.0, 'num': '037', 'name': 'Vulpix', 'img': 'http://www.serebii.net/pokemongo/pokemon/037.png', 'type': ['Fire'], 'height': '0.61 m', 'weight': '9.9 kg', 'candy': 'Vulpix Candy', 'candy_count': 50.0, 'egg': '5 km', 'spawn_chance': 0.22, 'avg_spawns': 22.0, 'spawn_time': '13:43', 'multipliers': [2.74, 2.81], 'weaknesses': ['Water', 'Ground', 'Rock'], 'next_evolution': [{'num': '038', 'name': 'Ninetales'}]}\n",
      "{'_id': ObjectId('58f56171ee9d4bd5e610d690'), 'id': 77.0, 'num': '077', 'name': 'Ponyta', 'img': 'http://www.serebii.net/pokemongo/pokemon/077.png', 'type': ['Fire'], 'height': '0.99 m', 'weight': '30.0 kg', 'candy': 'Ponyta Candy', 'candy_count': 50.0, 'egg': '5 km', 'spawn_chance': 0.51, 'avg_spawns': 51.0, 'spawn_time': '02:50', 'multipliers': [1.48, 1.5], 'weaknesses': ['Water', 'Ground', 'Rock'], 'next_evolution': [{'num': '078', 'name': 'Rapidash'}]}\n",
      "{'_id': ObjectId('58f56171ee9d4bd5e610d694'), 'id': 81.0, 'num': '081', 'name': 'Magnemite', 'img': 'http://www.serebii.net/pokemongo/pokemon/081.png', 'type': ['Electric'], 'height': '0.30 m', 'weight': '6.0 kg', 'candy': 'Magnemite Candy', 'candy_count': 50.0, 'egg': '5 km', 'spawn_chance': 0.71, 'avg_spawns': 71.0, 'spawn_time': '04:04', 'multipliers': [2.16, 2.17], 'weaknesses': ['Fire', 'Water', 'Ground'], 'next_evolution': [{'num': '082', 'name': 'Magneton'}]}\n",
      "{'_id': ObjectId('58f56171ee9d4bd5e610d6ac'), 'id': 105.0, 'num': '105', 'name': 'Marowak', 'img': 'http://www.serebii.net/pokemongo/pokemon/105.png', 'type': ['Ground'], 'height': '0.99 m', 'weight': '45.0 kg', 'candy': 'Cubone Candy', 'egg': 'Not in Eggs', 'spawn_chance': 0.02, 'avg_spawns': 2.0, 'spawn_time': '03:59', 'multipliers': None, 'weaknesses': ['Water', 'Grass', 'Ice'], 'prev_evolution': [{'num': '104', 'name': 'Cubone'}]}\n",
      "{'_id': ObjectId('58f56171ee9d4bd5e610d6b3'), 'id': 112.0, 'num': '112', 'name': 'Rhydon', 'img': 'http://www.serebii.net/pokemongo/pokemon/112.png', 'type': ['Ground', 'Rock'], 'height': '1.91 m', 'weight': '120.0 kg', 'candy': 'Rhyhorn Candy', 'egg': 'Not in Eggs', 'spawn_chance': 0.022, 'avg_spawns': 2.2, 'spawn_time': '05:50', 'multipliers': None, 'weaknesses': ['Water', 'Grass', 'Ice', 'Fighting', 'Ground', 'Steel'], 'prev_evolution': [{'num': '111', 'name': 'Rhyhorn'}]}\n",
      "{'_id': ObjectId('58f56171ee9d4bd5e610d6cb'), 'id': 136.0, 'num': '136', 'name': 'Flareon', 'img': 'http://www.serebii.net/pokemongo/pokemon/136.png', 'type': ['Fire'], 'height': '0.89 m', 'weight': '25.0 kg', 'candy': 'Eevee Candy', 'egg': 'Not in Eggs', 'spawn_chance': 0.017, 'avg_spawns': 1.7, 'spawn_time': '07:02', 'multipliers': None, 'weaknesses': ['Water', 'Ground', 'Rock'], 'prev_evolution': [{'num': '133', 'name': 'Eevee'}]}\n",
      "{'_id': ObjectId('58f56171ee9d4bd5e610d669'), 'id': 38.0, 'num': '038', 'name': 'Ninetales', 'img': 'http://www.serebii.net/pokemongo/pokemon/038.png', 'type': ['Fire'], 'height': '1.09 m', 'weight': '19.9 kg', 'candy': 'Vulpix Candy', 'egg': 'Not in Eggs', 'spawn_chance': 0.0077, 'avg_spawns': 0.77, 'spawn_time': '01:32', 'multipliers': None, 'weaknesses': ['Water', 'Ground', 'Rock'], 'prev_evolution': [{'num': '037', 'name': 'Vulpix'}]}\n",
      "{'_id': ObjectId('58f56171ee9d4bd5e610d675'), 'id': 50.0, 'num': '050', 'name': 'Diglett', 'img': 'http://www.serebii.net/pokemongo/pokemon/050.png', 'type': ['Ground'], 'height': '0.20 m', 'weight': '0.8 kg', 'candy': 'Diglett Candy', 'candy_count': 50.0, 'egg': '5 km', 'spawn_chance': 0.4, 'avg_spawns': 40.0, 'spawn_time': '02:22', 'multipliers': [2.69], 'weaknesses': ['Water', 'Grass', 'Ice'], 'next_evolution': [{'num': '051', 'name': 'Dugtrio'}]}\n",
      "{'_id': ObjectId('58f56171ee9d4bd5e610d67d'), 'id': 58.0, 'num': '058', 'name': 'Growlithe', 'img': 'http://www.serebii.net/pokemongo/pokemon/058.png', 'type': ['Fire'], 'height': '0.71 m', 'weight': '19.0 kg', 'candy': 'Growlithe Candy', 'candy_count': 50.0, 'egg': '5 km', 'spawn_chance': 0.92, 'avg_spawns': 92.0, 'spawn_time': '03:57', 'multipliers': [2.31, 2.36], 'weaknesses': ['Water', 'Ground', 'Rock'], 'next_evolution': [{'num': '059', 'name': 'Arcanine'}]}\n",
      "{'_id': ObjectId('58f56171ee9d4bd5e610d68d'), 'id': 74.0, 'num': '074', 'name': 'Geodude', 'img': 'http://www.serebii.net/pokemongo/pokemon/074.png', 'type': ['Rock', 'Ground'], 'height': '0.41 m', 'weight': '20.0 kg', 'candy': 'Geodude Candy', 'candy_count': 25.0, 'egg': '2 km', 'spawn_chance': 1.19, 'avg_spawns': 119.0, 'spawn_time': '12:40', 'multipliers': [1.75, 1.76], 'weaknesses': ['Water', 'Grass', 'Ice', 'Fighting', 'Ground', 'Steel'], 'next_evolution': [{'num': '075', 'name': 'Graveler'}, {'num': '076', 'name': 'Golem'}]}\n",
      "{'_id': ObjectId('58f56171ee9d4bd5e610d691'), 'id': 78.0, 'num': '078', 'name': 'Rapidash', 'img': 'http://www.serebii.net/pokemongo/pokemon/078.png', 'type': ['Fire'], 'height': '1.70 m', 'weight': '95.0 kg', 'candy': 'Ponyta Candy', 'egg': 'Not in Eggs', 'spawn_chance': 0.011, 'avg_spawns': 1.1, 'spawn_time': '04:00', 'multipliers': None, 'weaknesses': ['Water', 'Ground', 'Rock'], 'prev_evolution': [{'num': '077', 'name': 'Ponyta'}]}\n",
      "{'_id': ObjectId('58f56171ee9d4bd5e610d695'), 'id': 82.0, 'num': '082', 'name': 'Magneton', 'img': 'http://www.serebii.net/pokemongo/pokemon/082.png', 'type': ['Electric'], 'height': '0.99 m', 'weight': '60.0 kg', 'candy': 'Magnemite Candy', 'egg': 'Not in Eggs', 'spawn_chance': 0.023, 'avg_spawns': 2.3, 'spawn_time': '15:25', 'multipliers': None, 'weaknesses': ['Fire', 'Water', 'Ground'], 'prev_evolution': [{'num': '081', 'name': 'Magnemite'}]}\n",
      "{'_id': ObjectId('58f56171ee9d4bd5e610d6b2'), 'id': 111.0, 'num': '111', 'name': 'Rhyhorn', 'img': 'http://www.serebii.net/pokemongo/pokemon/111.png', 'type': ['Ground', 'Rock'], 'height': '0.99 m', 'weight': '115.0 kg', 'candy': 'Rhyhorn Candy', 'candy_count': 50.0, 'egg': '5 km', 'spawn_chance': 0.63, 'avg_spawns': 63.0, 'spawn_time': '03:21', 'multipliers': [1.91], 'weaknesses': ['Water', 'Grass', 'Ice', 'Fighting', 'Ground', 'Steel'], 'next_evolution': [{'num': '112', 'name': 'Rhydon'}]}\n",
      "{'_id': ObjectId('58f56171ee9d4bd5e610d65f'), 'id': 28.0, 'num': '028', 'name': 'Sandslash', 'img': 'http://www.serebii.net/pokemongo/pokemon/028.png', 'type': ['Ground'], 'height': '0.99 m', 'weight': '29.5 kg', 'candy': 'Sandshrew Candy', 'egg': 'Not in Eggs', 'spawn_chance': 0.037, 'avg_spawns': 3.7, 'spawn_time': '12:34', 'multipliers': None, 'weaknesses': ['Water', 'Grass', 'Ice'], 'prev_evolution': [{'num': '027', 'name': 'Sandshrew'}]}\n",
      "{'_id': ObjectId('58f56171ee9d4bd5e610d68f'), 'id': 76.0, 'num': '076', 'name': 'Golem', 'img': 'http://www.serebii.net/pokemongo/pokemon/076.png', 'type': ['Rock', 'Ground'], 'height': '1.40 m', 'weight': '300.0 kg', 'candy': 'Geodude Candy', 'egg': 'Not in Eggs', 'spawn_chance': 0.0047, 'avg_spawns': 0.47, 'spawn_time': '12:16', 'multipliers': None, 'weaknesses': ['Water', 'Grass', 'Ice', 'Fighting', 'Ground', 'Steel'], 'prev_evolution': [{'num': '074', 'name': 'Geodude'}, {'num': '075', 'name': 'Graveler'}]}\n",
      "{'_id': ObjectId('58f56171ee9d4bd5e610d6ab'), 'id': 104.0, 'num': '104', 'name': 'Cubone', 'img': 'http://www.serebii.net/pokemongo/pokemon/104.png', 'type': ['Ground'], 'height': '0.41 m', 'weight': '6.5 kg', 'candy': 'Cubone Candy', 'candy_count': 50.0, 'egg': '5 km', 'spawn_chance': 0.61, 'avg_spawns': 61.0, 'spawn_time': '01:51', 'multipliers': [1.67], 'weaknesses': ['Water', 'Grass', 'Ice'], 'next_evolution': [{'num': '105', 'name': 'Marowak'}]}\n",
      "{'_id': ObjectId('58f56171ee9d4bd5e610d65e'), 'id': 27.0, 'num': '027', 'name': 'Sandshrew', 'img': 'http://www.serebii.net/pokemongo/pokemon/027.png', 'type': ['Ground'], 'height': '0.61 m', 'weight': '12.0 kg', 'candy': 'Sandshrew Candy', 'candy_count': 50.0, 'egg': '5 km', 'spawn_chance': 1.11, 'avg_spawns': 111.0, 'spawn_time': '01:58', 'multipliers': [2.45], 'weaknesses': ['Water', 'Grass', 'Ice'], 'next_evolution': [{'num': '028', 'name': 'Sandslash'}]}\n",
      "{'_id': ObjectId('58f56171ee9d4bd5e610d662'), 'id': 31.0, 'num': '031', 'name': 'Nidoqueen', 'img': 'http://www.serebii.net/pokemongo/pokemon/031.png', 'type': ['Poison', 'Ground'], 'height': '1.30 m', 'weight': '60.0 kg', 'candy': 'Nidoran ♀ (Female) Candy', 'egg': 'Not in Eggs', 'spawn_chance': 0.012, 'avg_spawns': 1.2, 'spawn_time': '12:35', 'multipliers': None, 'weaknesses': ['Water', 'Ice', 'Ground', 'Psychic'], 'prev_evolution': [{'num': '029', 'name': 'Nidoran(Female)'}, {'num': '030', 'name': 'Nidorina'}]}\n",
      "{'_id': ObjectId('58f56171ee9d4bd5e610d665'), 'id': 34.0, 'num': '034', 'name': 'Nidoking', 'img': 'http://www.serebii.net/pokemongo/pokemon/034.png', 'type': ['Poison', 'Ground'], 'height': '1.40 m', 'weight': '62.0 kg', 'candy': 'Nidoran ♂ (Male) Candy', 'egg': 'Not in Eggs', 'spawn_chance': 0.017, 'avg_spawns': 1.7, 'spawn_time': '12:16', 'multipliers': None, 'weaknesses': ['Water', 'Ice', 'Ground', 'Psychic'], 'prev_evolution': [{'num': '032', 'name': 'Nidoran(Male)'}, {'num': '033', 'name': 'Nidorino'}]}\n",
      "{'_id': ObjectId('58f56171ee9d4bd5e610d676'), 'id': 51.0, 'num': '051', 'name': 'Dugtrio', 'img': 'http://www.serebii.net/pokemongo/pokemon/051.png', 'type': ['Ground'], 'height': '0.71 m', 'weight': '33.3 kg', 'candy': 'Dugtrio', 'egg': 'Not in Eggs', 'spawn_chance': 0.014, 'avg_spawns': 1.4, 'spawn_time': '12:37', 'multipliers': None, 'weaknesses': ['Water', 'Grass', 'Ice'], 'prev_evolution': [{'num': '050', 'name': 'Diglett'}]}\n",
      "{'_id': ObjectId('58f56171ee9d4bd5e610d67e'), 'id': 59.0, 'num': '059', 'name': 'Arcanine', 'img': 'http://www.serebii.net/pokemongo/pokemon/059.png', 'type': ['Fire'], 'height': '1.91 m', 'weight': '155.0 kg', 'candy': 'Growlithe Candy', 'egg': 'Not in Eggs', 'spawn_chance': 0.017, 'avg_spawns': 1.7, 'spawn_time': '03:11', 'multipliers': None, 'weaknesses': ['Water', 'Ground', 'Rock'], 'prev_evolution': [{'num': '058', 'name': 'Growlithe'}]}\n",
      "{'_id': ObjectId('58f56171ee9d4bd5e610d68e'), 'id': 75.0, 'num': '075', 'name': 'Graveler', 'img': 'http://www.serebii.net/pokemongo/pokemon/075.png', 'type': ['Rock', 'Ground'], 'height': '0.99 m', 'weight': '105.0 kg', 'candy': 'Geodude Candy', 'candy_count': 100.0, 'egg': 'Not in Eggs', 'spawn_chance': 0.071, 'avg_spawns': 7.1, 'spawn_time': '04:53', 'multipliers': [1.64, 1.72], 'weaknesses': ['Water', 'Grass', 'Ice', 'Fighting', 'Ground', 'Steel'], 'prev_evolution': [{'num': '074', 'name': 'Geodude'}], 'next_evolution': [{'num': '076', 'name': 'Golem'}]}\n",
      "{'_id': ObjectId('58f56171ee9d4bd5e610d6a2'), 'id': 95.0, 'num': '095', 'name': 'Onix', 'img': 'http://www.serebii.net/pokemongo/pokemon/095.png', 'type': ['Rock', 'Ground'], 'height': '8.79 m', 'weight': '210.0 kg', 'candy': 'None', 'egg': '10 km', 'spawn_chance': 0.1, 'avg_spawns': 10.0, 'spawn_time': '01:18', 'multipliers': None, 'weaknesses': ['Water', 'Grass', 'Ice', 'Fighting', 'Ground', 'Steel']}\n",
      "{'_id': ObjectId('58f56171ee9d4bd5e610d6c1'), 'id': 126.0, 'num': '126', 'name': 'Magmar', 'img': 'http://www.serebii.net/pokemongo/pokemon/126.png', 'type': ['Fire'], 'height': '1.30 m', 'weight': '44.5 kg', 'candy': 'None', 'egg': '10 km', 'spawn_chance': 0.1, 'avg_spawns': 10.0, 'spawn_time': '20:36', 'multipliers': None, 'weaknesses': ['Water', 'Ground', 'Rock']}\n",
      "{'_id': ObjectId('58f56171ee9d4bd5e610d6d1'), 'id': 142.0, 'num': '142', 'name': 'Aerodactyl', 'img': 'http://www.serebii.net/pokemongo/pokemon/142.png', 'type': ['Rock', 'Flying'], 'height': '1.80 m', 'weight': '59.0 kg', 'candy': 'None', 'egg': '10 km', 'spawn_chance': 0.018, 'avg_spawns': 1.8, 'spawn_time': '23:40', 'multipliers': None, 'weaknesses': ['Water', 'Electric', 'Ice', 'Rock', 'Steel']}\n",
      "{'_id': ObjectId('58f56171ee9d4bd5e610d6d5'), 'id': 146.0, 'num': '146', 'name': 'Moltres', 'img': 'http://www.serebii.net/pokemongo/pokemon/146.png', 'type': ['Fire', 'Flying'], 'height': '2.01 m', 'weight': '60.0 kg', 'candy': 'None', 'egg': 'Not in Eggs', 'spawn_chance': 0.0, 'avg_spawns': 0.0, 'spawn_time': 'N/A', 'multipliers': None, 'weaknesses': ['Water', 'Electric', 'Rock']}\n"
     ]
    }
   ],
   "source": [
    "# fraqueza água\n",
    "\n",
    "w = {\"weaknesses\": \"Water\"}\n",
    "f = collection.find(w)\n",
    "for x in f:\n",
    "    print(x)"
   ]
  },
  {
   "cell_type": "code",
   "execution_count": 56,
   "metadata": {},
   "outputs": [],
   "source": [
    "h = {\"height\": {\"$eq\": \"9.9\"}}\n",
    "he = collection.find(h)\n",
    "for x in he:\n",
    "    print(x)\n",
    "    \n",
    "# não retorna nenhum valor"
   ]
  },
  {
   "cell_type": "code",
   "execution_count": 49,
   "metadata": {},
   "outputs": [],
   "source": [
    "# inserindo novo pokemon\n",
    "\n",
    "entei = {\"id\": 95, \"num\":95, \"name\":\"Entei\", \"img\": \" \", \"type\":\"Fire\", \"height\": \"2.1 m\", \n",
    "         \"weight\": \"198.0 kg\", \"candy\": \"\", \"candy_count\": 60.0, \"egg\": \"20 km\", \n",
    "         \"spawn_chance\": 0.02, \"avg_spawns\": 10.0, \"spawn_time\": \"10:10\", \n",
    "         \"multipliers\":[1.56, 3.4], \"weaknesses\":[\"Ground\", \"Rock\", \"Water\"], \"next_evolution\":\" \"}\n",
    "insert = collection.insert_one(entei)"
   ]
  },
  {
   "cell_type": "code",
   "execution_count": 52,
   "metadata": {},
   "outputs": [
    {
     "data": {
      "text/plain": [
       "{'_id': ObjectId('5d1b989deee0c552b0703633'),\n",
       " 'id': 95,\n",
       " 'num': 95,\n",
       " 'name': 'Entei',\n",
       " 'img': ' ',\n",
       " 'type': 'Fire',\n",
       " 'height': '2.1 m',\n",
       " 'weight': '198.0 kg',\n",
       " 'candy': '',\n",
       " 'candy_count': 60.0,\n",
       " 'egg': '20 km',\n",
       " 'spawn_chance': 0.02,\n",
       " 'avg_spawns': 10.0,\n",
       " 'spawn_time': '10:10',\n",
       " 'multipliers': [1.56, 3.4],\n",
       " 'weaknesses': ['Ground', 'Rock', 'Water'],\n",
       " 'next_evolution': ' '}"
      ]
     },
     "execution_count": 52,
     "metadata": {},
     "output_type": "execute_result"
    }
   ],
   "source": [
    "# procurando o pokemon inserido\n",
    "\n",
    "collection.find_one({\"name\": \"Entei\"})"
   ]
  },
  {
   "cell_type": "code",
   "execution_count": 54,
   "metadata": {},
   "outputs": [
    {
     "name": "stdout",
     "output_type": "stream",
     "text": [
      "{'_id': ObjectId('58f56171ee9d4bd5e610d684'), 'id': 65.0, 'num': '065', 'name': 'Alakazam', 'img': 'http://www.serebii.net/pokemongo/pokemon/065.png', 'type': ['Psychic'], 'height': '1.50 m', 'weight': '48.0 kg', 'candy': 'Abra Candy', 'egg': 'Not in Eggs', 'spawn_chance': 0.0073, 'avg_spawns': 0.73, 'spawn_time': '12:33', 'multipliers': None, 'weaknesses': ['Bug', 'Ghost', 'Dark'], 'prev_evolution': [{'num': '063', 'name': 'Abra'}, {'num': '064', 'name': 'Kadabra'}]}\n",
      "{'_id': ObjectId('58f56171ee9d4bd5e610d6d3'), 'id': 144.0, 'num': '144', 'name': 'Articuno', 'img': 'http://www.serebii.net/pokemongo/pokemon/144.png', 'type': ['Ice', 'Flying'], 'height': '1.70 m', 'weight': '55.4 kg', 'candy': 'None', 'egg': 'Not in Eggs', 'spawn_chance': 0.0, 'avg_spawns': 0.0, 'spawn_time': 'N/A', 'multipliers': None, 'weaknesses': ['Fire', 'Electric', 'Rock', 'Steel']}\n",
      "{'_id': ObjectId('58f56171ee9d4bd5e610d65b'), 'id': 24.0, 'num': '024', 'name': 'Arbok', 'img': 'http://www.serebii.net/pokemongo/pokemon/024.png', 'type': ['Poison'], 'height': '3.51 m', 'weight': '65.0 kg', 'candy': 'Ekans Candy', 'egg': 'Not in Eggs', 'spawn_chance': 0.072, 'avg_spawns': 7.2, 'spawn_time': '01:50', 'multipliers': None, 'weaknesses': ['Ground', 'Psychic'], 'prev_evolution': [{'num': '023', 'name': 'Ekans'}]}\n",
      "{'_id': ObjectId('58f56171ee9d4bd5e610d67e'), 'id': 59.0, 'num': '059', 'name': 'Arcanine', 'img': 'http://www.serebii.net/pokemongo/pokemon/059.png', 'type': ['Fire'], 'height': '1.91 m', 'weight': '155.0 kg', 'candy': 'Growlithe Candy', 'egg': 'Not in Eggs', 'spawn_chance': 0.017, 'avg_spawns': 1.7, 'spawn_time': '03:11', 'multipliers': None, 'weaknesses': ['Water', 'Ground', 'Rock'], 'prev_evolution': [{'num': '058', 'name': 'Growlithe'}]}\n",
      "{'_id': ObjectId('58f56171ee9d4bd5e610d682'), 'id': 63.0, 'num': '063', 'name': 'Abra', 'img': 'http://www.serebii.net/pokemongo/pokemon/063.png', 'type': ['Psychic'], 'height': '0.89 m', 'weight': '19.5 kg', 'candy': 'Abra Candy', 'candy_count': 25.0, 'egg': '5 km', 'spawn_chance': 0.42, 'avg_spawns': 42.0, 'spawn_time': '04:30', 'multipliers': [1.36, 1.95], 'weaknesses': ['Bug', 'Ghost', 'Dark'], 'next_evolution': [{'num': '064', 'name': 'Kadabra'}, {'num': '065', 'name': 'Alakazam'}]}\n",
      "{'_id': ObjectId('58f56171ee9d4bd5e610d6d1'), 'id': 142.0, 'num': '142', 'name': 'Aerodactyl', 'img': 'http://www.serebii.net/pokemongo/pokemon/142.png', 'type': ['Rock', 'Flying'], 'height': '1.80 m', 'weight': '59.0 kg', 'candy': 'None', 'egg': '10 km', 'spawn_chance': 0.018, 'avg_spawns': 1.8, 'spawn_time': '23:40', 'multipliers': None, 'weaknesses': ['Water', 'Electric', 'Ice', 'Rock', 'Steel']}\n"
     ]
    }
   ],
   "source": [
    "# pokemons começando com a letra a\n",
    "\n",
    "a = collection.find({\"name\": {\"$regex\":'^A'}})\n",
    "for x in a:\n",
    "    print(x)"
   ]
  }
 ],
 "metadata": {
  "kernelspec": {
   "display_name": "Python 3",
   "language": "python",
   "name": "python3"
  },
  "language_info": {
   "codemirror_mode": {
    "name": "ipython",
    "version": 3
   },
   "file_extension": ".py",
   "mimetype": "text/x-python",
   "name": "python",
   "nbconvert_exporter": "python",
   "pygments_lexer": "ipython3",
   "version": "3.7.3"
  }
 },
 "nbformat": 4,
 "nbformat_minor": 2
}
